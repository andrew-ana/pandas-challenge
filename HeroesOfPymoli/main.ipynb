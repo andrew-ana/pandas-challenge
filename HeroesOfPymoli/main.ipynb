{
 "cells": [
  {
   "cell_type": "markdown",
   "id": "major-bloom",
   "metadata": {},
   "source": [
    "# Heroes of Pymoli \n",
    "### Andrew Anastasiades | @andrew-ana\n",
    "---"
   ]
  },
  {
   "cell_type": "markdown",
   "id": "final-refund",
   "metadata": {},
   "source": [
    "## LOAD DATA\n",
    "---"
   ]
  },
  {
   "cell_type": "code",
   "execution_count": 1,
   "id": "successful-response",
   "metadata": {},
   "outputs": [],
   "source": [
    "## DEPENDENCIES\n",
    "import pandas as pd #File IO and Data Manipulation\n",
    "import os #OS agnostic file structure\n",
    "\n",
    "## FILE PATHS\n",
    "purchase_filename = os.path.join(\"Resources\", \"purchase_data.csv\")\n",
    "\n",
    "## INITIALIZE DATAFRAME FROM FILE\n",
    "df = pd.read_csv(purchase_filename)"
   ]
  },
  {
   "cell_type": "markdown",
   "id": "progressive-beverage",
   "metadata": {},
   "source": [
    "## INSPECT DATA\n",
    "---"
   ]
  },
  {
   "cell_type": "code",
   "execution_count": 2,
   "id": "fantastic-configuration",
   "metadata": {},
   "outputs": [
    {
     "data": {
      "text/html": [
       "<div>\n",
       "<style scoped>\n",
       "    .dataframe tbody tr th:only-of-type {\n",
       "        vertical-align: middle;\n",
       "    }\n",
       "\n",
       "    .dataframe tbody tr th {\n",
       "        vertical-align: top;\n",
       "    }\n",
       "\n",
       "    .dataframe thead th {\n",
       "        text-align: right;\n",
       "    }\n",
       "</style>\n",
       "<table border=\"1\" class=\"dataframe\">\n",
       "  <thead>\n",
       "    <tr style=\"text-align: right;\">\n",
       "      <th></th>\n",
       "      <th>Purchase ID</th>\n",
       "      <th>Age</th>\n",
       "      <th>Item ID</th>\n",
       "      <th>Price</th>\n",
       "    </tr>\n",
       "  </thead>\n",
       "  <tbody>\n",
       "    <tr>\n",
       "      <th>count</th>\n",
       "      <td>780.000000</td>\n",
       "      <td>780.000000</td>\n",
       "      <td>780.000000</td>\n",
       "      <td>780.000000</td>\n",
       "    </tr>\n",
       "    <tr>\n",
       "      <th>mean</th>\n",
       "      <td>389.500000</td>\n",
       "      <td>22.714103</td>\n",
       "      <td>91.755128</td>\n",
       "      <td>3.050987</td>\n",
       "    </tr>\n",
       "    <tr>\n",
       "      <th>std</th>\n",
       "      <td>225.310896</td>\n",
       "      <td>6.659444</td>\n",
       "      <td>52.697702</td>\n",
       "      <td>1.169549</td>\n",
       "    </tr>\n",
       "    <tr>\n",
       "      <th>min</th>\n",
       "      <td>0.000000</td>\n",
       "      <td>7.000000</td>\n",
       "      <td>0.000000</td>\n",
       "      <td>1.000000</td>\n",
       "    </tr>\n",
       "    <tr>\n",
       "      <th>25%</th>\n",
       "      <td>194.750000</td>\n",
       "      <td>20.000000</td>\n",
       "      <td>47.750000</td>\n",
       "      <td>1.980000</td>\n",
       "    </tr>\n",
       "    <tr>\n",
       "      <th>50%</th>\n",
       "      <td>389.500000</td>\n",
       "      <td>22.000000</td>\n",
       "      <td>92.000000</td>\n",
       "      <td>3.150000</td>\n",
       "    </tr>\n",
       "    <tr>\n",
       "      <th>75%</th>\n",
       "      <td>584.250000</td>\n",
       "      <td>25.000000</td>\n",
       "      <td>138.000000</td>\n",
       "      <td>4.080000</td>\n",
       "    </tr>\n",
       "    <tr>\n",
       "      <th>max</th>\n",
       "      <td>779.000000</td>\n",
       "      <td>45.000000</td>\n",
       "      <td>183.000000</td>\n",
       "      <td>4.990000</td>\n",
       "    </tr>\n",
       "  </tbody>\n",
       "</table>\n",
       "</div>"
      ],
      "text/plain": [
       "       Purchase ID         Age     Item ID       Price\n",
       "count   780.000000  780.000000  780.000000  780.000000\n",
       "mean    389.500000   22.714103   91.755128    3.050987\n",
       "std     225.310896    6.659444   52.697702    1.169549\n",
       "min       0.000000    7.000000    0.000000    1.000000\n",
       "25%     194.750000   20.000000   47.750000    1.980000\n",
       "50%     389.500000   22.000000   92.000000    3.150000\n",
       "75%     584.250000   25.000000  138.000000    4.080000\n",
       "max     779.000000   45.000000  183.000000    4.990000"
      ]
     },
     "execution_count": 2,
     "metadata": {},
     "output_type": "execute_result"
    }
   ],
   "source": [
    "df.describe()"
   ]
  },
  {
   "cell_type": "code",
   "execution_count": 3,
   "id": "ready-bronze",
   "metadata": {},
   "outputs": [
    {
     "data": {
      "text/html": [
       "<div>\n",
       "<style scoped>\n",
       "    .dataframe tbody tr th:only-of-type {\n",
       "        vertical-align: middle;\n",
       "    }\n",
       "\n",
       "    .dataframe tbody tr th {\n",
       "        vertical-align: top;\n",
       "    }\n",
       "\n",
       "    .dataframe thead th {\n",
       "        text-align: right;\n",
       "    }\n",
       "</style>\n",
       "<table border=\"1\" class=\"dataframe\">\n",
       "  <thead>\n",
       "    <tr style=\"text-align: right;\">\n",
       "      <th></th>\n",
       "      <th>Purchase ID</th>\n",
       "      <th>SN</th>\n",
       "      <th>Age</th>\n",
       "      <th>Gender</th>\n",
       "      <th>Item ID</th>\n",
       "      <th>Item Name</th>\n",
       "      <th>Price</th>\n",
       "    </tr>\n",
       "  </thead>\n",
       "  <tbody>\n",
       "    <tr>\n",
       "      <th>0</th>\n",
       "      <td>0</td>\n",
       "      <td>Lisim78</td>\n",
       "      <td>20</td>\n",
       "      <td>Male</td>\n",
       "      <td>108</td>\n",
       "      <td>Extraction, Quickblade Of Trembling Hands</td>\n",
       "      <td>3.53</td>\n",
       "    </tr>\n",
       "    <tr>\n",
       "      <th>1</th>\n",
       "      <td>1</td>\n",
       "      <td>Lisovynya38</td>\n",
       "      <td>40</td>\n",
       "      <td>Male</td>\n",
       "      <td>143</td>\n",
       "      <td>Frenzied Scimitar</td>\n",
       "      <td>1.56</td>\n",
       "    </tr>\n",
       "    <tr>\n",
       "      <th>2</th>\n",
       "      <td>2</td>\n",
       "      <td>Ithergue48</td>\n",
       "      <td>24</td>\n",
       "      <td>Male</td>\n",
       "      <td>92</td>\n",
       "      <td>Final Critic</td>\n",
       "      <td>4.88</td>\n",
       "    </tr>\n",
       "    <tr>\n",
       "      <th>3</th>\n",
       "      <td>3</td>\n",
       "      <td>Chamassasya86</td>\n",
       "      <td>24</td>\n",
       "      <td>Male</td>\n",
       "      <td>100</td>\n",
       "      <td>Blindscythe</td>\n",
       "      <td>3.27</td>\n",
       "    </tr>\n",
       "    <tr>\n",
       "      <th>4</th>\n",
       "      <td>4</td>\n",
       "      <td>Iskosia90</td>\n",
       "      <td>23</td>\n",
       "      <td>Male</td>\n",
       "      <td>131</td>\n",
       "      <td>Fury</td>\n",
       "      <td>1.44</td>\n",
       "    </tr>\n",
       "  </tbody>\n",
       "</table>\n",
       "</div>"
      ],
      "text/plain": [
       "   Purchase ID             SN  Age Gender  Item ID  \\\n",
       "0            0        Lisim78   20   Male      108   \n",
       "1            1    Lisovynya38   40   Male      143   \n",
       "2            2     Ithergue48   24   Male       92   \n",
       "3            3  Chamassasya86   24   Male      100   \n",
       "4            4      Iskosia90   23   Male      131   \n",
       "\n",
       "                                   Item Name  Price  \n",
       "0  Extraction, Quickblade Of Trembling Hands   3.53  \n",
       "1                          Frenzied Scimitar   1.56  \n",
       "2                               Final Critic   4.88  \n",
       "3                                Blindscythe   3.27  \n",
       "4                                       Fury   1.44  "
      ]
     },
     "execution_count": 3,
     "metadata": {},
     "output_type": "execute_result"
    }
   ],
   "source": [
    "df.head(5)"
   ]
  },
  {
   "cell_type": "markdown",
   "id": "distributed-jerusalem",
   "metadata": {},
   "source": [
    "## ANALYZE DATA\n",
    "---"
   ]
  },
  {
   "cell_type": "code",
   "execution_count": 4,
   "id": "false-color",
   "metadata": {},
   "outputs": [
    {
     "name": "stdout",
     "output_type": "stream",
     "text": [
      "There are 576 unique players in the game\n"
     ]
    }
   ],
   "source": [
    "# PLAYER ANALYSIS\n",
    "num_players = df['SN'].nunique() #Unique SN\n",
    "print(f\"There are {num_players} unique players in the game\")"
   ]
  },
  {
   "cell_type": "code",
   "execution_count": 6,
   "id": "continued-polish",
   "metadata": {},
   "outputs": [
    {
     "name": "stdout",
     "output_type": "stream",
     "text": [
      "There are 179 unique items\n",
      "The average purchase price is $3.05\n"
     ]
    }
   ],
   "source": [
    "# PURCHASING ANALYSIS (TOTAL)\n",
    "num_items = df['Item ID'].nunique() #Unique SN\n",
    "print(f\"There are {num_items} unique items\")\n",
    "avg_price = df['Price'].mean()\n",
    "print(f\"The average purchase price is ${avg_price:.2f}\")\n",
    "num_purchases = len(df) #Each row is a purchase\n",
    "rev_total = df['Price'].sum()\n"
   ]
  },
  {
   "cell_type": "code",
   "execution_count": null,
   "id": "artistic-currency",
   "metadata": {},
   "outputs": [],
   "source": [
    "# GENDER DEMOGRAPHICS\n",
    "gender_group = df.groupby(by=['Gender']) #Group By Gender\n",
    "gender_num = gender_group['SN'].nunique() #Shows Male, Female and Other\n",
    "gender_percent = gender_num/num_players #Divide by Unique Players\n",
    "\n",
    "# PURCHASING ANALYSIS (GENDER)\n",
    "gender_purchases = gender_group['SN'].count() #count each row in each group\n",
    "gender_average_price = gender_group['Price'].mean() #Average\n",
    "gender_revenue_total = gender_group['Price'].sum() #Subtotal\n",
    "gender_player_LTV = gender_revenue_total / gender_num #LTV = group rev / group size\n",
    "\n",
    "# AGE DEMOGRAPHICS\n",
    "#First Prepare the Bins and Group\n",
    "age_bin_max = round((max(df['Age'])-10) / 4)+1#MATH = How many bins will need? \n",
    "age_bins = [0,10] + [10+i*4 for i in range(1,age_bin_max)] #Make my bins\n",
    "df['Age Group'] = pd.cut(df['Age'], age_bins, right=False) #Add 'Age Group' Column\n",
    "age_groups = df.groupby(['Age Group']) #Groupby 'Age Group'\n",
    "#Analyze\n",
    "age_num = age_groups['SN'].nunique() #How many people in each group?\n",
    "age_purchases = age_groups['SN'].count() # How many purchases\n",
    "age_average_price = age_groups['Price'].mean() #Average purchase price\n",
    "age_revenue_total = age_groups['Price'].sum() #Sum of Prices\n",
    "age_player_LTV = age_revenue_total / age_num #LTV = group rev / group size\n",
    "\n",
    "# TOP SPENDERS\n",
    "player_group = df.groupby('SN')#Want unique players\n",
    "top_spenders = pd.DataFrame()#I'm going to make a DataFrame to house my statistics\n",
    "top_spenders['Total Purchases'] = player_group['Price'].sum()\n",
    "top_spenders['Purchase Count'] = player_group['Price'].count()\n",
    "top_spenders['Average Purchase Price'] = top_spenders['Total Purchases'] / top_spenders['Purchase Count']\n",
    "top_spenders = top_spenders.sort_values('Total Purchases', ascending=False) # Sort by 'Total Purchases'\n",
    "top_5_spenders = top_spenders.iloc[0:5,:] # Just get the top 5\n",
    "\n",
    "# MOST POPULAR ITEMS\n",
    "item_group = df.groupby(['Item Name','Item ID']) #Want Unique Items\n",
    "pop_items = pd.DataFrame()#I'm going to make a DataFrame to house my statistics\n",
    "pop_items['Purchase Count'] = item_group['Price'].count()\n",
    "pop_items['Total Purchase Value'] = item_group['Price'].sum()\n",
    "pop_items['Average Price'] = item_group['Price'].mean() #some items have multiple prices\n",
    "pop_items = pop_items.sort_values('Purchase Count', ascending=False) #Sort by 'Purchase Count'\n",
    "most_popular_items = pop_items.iloc[0:5,:] #Just get top 5\n",
    "\n",
    "# MOST PROFITABLE ITEMS\n",
    "prof_items = pop_items.sort_values('Total Purchase Value', ascending=False) # It's the same data as pop items\n",
    "most_profitable_items = prof_items.iloc[0:5,:] #Just get top 5"
   ]
  },
  {
   "cell_type": "code",
   "execution_count": null,
   "id": "upper-finance",
   "metadata": {
    "scrolled": true
   },
   "outputs": [],
   "source": [
    "## HIGHLIGHTED STATISTICS\n",
    "#Total\n",
    "num_players\n",
    "num_items\n",
    "avg_price\n",
    "num_purchases\n",
    "rev_total\n",
    "#Gender\n",
    "gender_num\n",
    "gender_percent\n",
    "gender_purchases\n",
    "gender_average_price\n",
    "gender_revenue_total\n",
    "gender_player_LTV\n",
    "#Age\n",
    "age_num\n",
    "age_purchases\n",
    "age_average_price\n",
    "age_revenue_total\n",
    "age_player_LTV\n",
    "#Players\n",
    "top_5_spenders\n",
    "#Items\n",
    "most_popular_items\n",
    "most_profitable_items"
   ]
  },
  {
   "cell_type": "code",
   "execution_count": null,
   "id": "motivated-maximum",
   "metadata": {},
   "outputs": [],
   "source": []
  },
  {
   "cell_type": "code",
   "execution_count": null,
   "id": "functional-traveler",
   "metadata": {},
   "outputs": [],
   "source": [
    "num_purchases"
   ]
  },
  {
   "cell_type": "code",
   "execution_count": null,
   "id": "occasional-shoulder",
   "metadata": {},
   "outputs": [],
   "source": []
  }
 ],
 "metadata": {
  "kernelspec": {
   "display_name": "Python [conda env:PythonData] *",
   "language": "python",
   "name": "conda-env-PythonData-py"
  },
  "language_info": {
   "codemirror_mode": {
    "name": "ipython",
    "version": 3
   },
   "file_extension": ".py",
   "mimetype": "text/x-python",
   "name": "python",
   "nbconvert_exporter": "python",
   "pygments_lexer": "ipython3",
   "version": "3.6.10"
  }
 },
 "nbformat": 4,
 "nbformat_minor": 5
}
