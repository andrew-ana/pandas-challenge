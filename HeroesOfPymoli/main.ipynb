{
 "cells": [
  {
   "cell_type": "markdown",
   "id": "colonial-differential",
   "metadata": {},
   "source": [
    "# Heroes of Pymoli \n",
    "### Andrew Anastasiades | @andrew-ana\n",
    "---"
   ]
  },
  {
   "cell_type": "markdown",
   "id": "colored-casting",
   "metadata": {},
   "source": [
    "## LOAD DATA\n",
    "---"
   ]
  },
  {
   "cell_type": "code",
   "execution_count": 1,
   "id": "synthetic-marshall",
   "metadata": {},
   "outputs": [],
   "source": [
    "# DEPENDENCIES\n",
    "import pandas as pd #File IO and Data Manipulation\n",
    "import os #OS agnostic file structure\n",
    "# FILE PATHS\n",
    "purchase_filename = os.path.join(\"Resources\", \"purchase_data.csv\")\n",
    "# INITIALIZE DATAFRAME FROM FILE\n",
    "df = pd.read_csv(purchase_filename)"
   ]
  },
  {
   "cell_type": "markdown",
   "id": "reduced-traveler",
   "metadata": {},
   "source": [
    "## INSPECT DATA\n",
    "---"
   ]
  },
  {
   "cell_type": "code",
   "execution_count": 2,
   "id": "synthetic-compression",
   "metadata": {},
   "outputs": [
    {
     "data": {
      "text/html": [
       "<div>\n",
       "<style scoped>\n",
       "    .dataframe tbody tr th:only-of-type {\n",
       "        vertical-align: middle;\n",
       "    }\n",
       "\n",
       "    .dataframe tbody tr th {\n",
       "        vertical-align: top;\n",
       "    }\n",
       "\n",
       "    .dataframe thead th {\n",
       "        text-align: right;\n",
       "    }\n",
       "</style>\n",
       "<table border=\"1\" class=\"dataframe\">\n",
       "  <thead>\n",
       "    <tr style=\"text-align: right;\">\n",
       "      <th></th>\n",
       "      <th>Purchase ID</th>\n",
       "      <th>Age</th>\n",
       "      <th>Item ID</th>\n",
       "      <th>Price</th>\n",
       "    </tr>\n",
       "  </thead>\n",
       "  <tbody>\n",
       "    <tr>\n",
       "      <th>count</th>\n",
       "      <td>780.000000</td>\n",
       "      <td>780.000000</td>\n",
       "      <td>780.000000</td>\n",
       "      <td>780.000000</td>\n",
       "    </tr>\n",
       "    <tr>\n",
       "      <th>mean</th>\n",
       "      <td>389.500000</td>\n",
       "      <td>22.714103</td>\n",
       "      <td>91.755128</td>\n",
       "      <td>3.050987</td>\n",
       "    </tr>\n",
       "    <tr>\n",
       "      <th>std</th>\n",
       "      <td>225.310896</td>\n",
       "      <td>6.659444</td>\n",
       "      <td>52.697702</td>\n",
       "      <td>1.169549</td>\n",
       "    </tr>\n",
       "    <tr>\n",
       "      <th>min</th>\n",
       "      <td>0.000000</td>\n",
       "      <td>7.000000</td>\n",
       "      <td>0.000000</td>\n",
       "      <td>1.000000</td>\n",
       "    </tr>\n",
       "    <tr>\n",
       "      <th>25%</th>\n",
       "      <td>194.750000</td>\n",
       "      <td>20.000000</td>\n",
       "      <td>47.750000</td>\n",
       "      <td>1.980000</td>\n",
       "    </tr>\n",
       "    <tr>\n",
       "      <th>50%</th>\n",
       "      <td>389.500000</td>\n",
       "      <td>22.000000</td>\n",
       "      <td>92.000000</td>\n",
       "      <td>3.150000</td>\n",
       "    </tr>\n",
       "    <tr>\n",
       "      <th>75%</th>\n",
       "      <td>584.250000</td>\n",
       "      <td>25.000000</td>\n",
       "      <td>138.000000</td>\n",
       "      <td>4.080000</td>\n",
       "    </tr>\n",
       "    <tr>\n",
       "      <th>max</th>\n",
       "      <td>779.000000</td>\n",
       "      <td>45.000000</td>\n",
       "      <td>183.000000</td>\n",
       "      <td>4.990000</td>\n",
       "    </tr>\n",
       "  </tbody>\n",
       "</table>\n",
       "</div>"
      ],
      "text/plain": [
       "       Purchase ID         Age     Item ID       Price\n",
       "count   780.000000  780.000000  780.000000  780.000000\n",
       "mean    389.500000   22.714103   91.755128    3.050987\n",
       "std     225.310896    6.659444   52.697702    1.169549\n",
       "min       0.000000    7.000000    0.000000    1.000000\n",
       "25%     194.750000   20.000000   47.750000    1.980000\n",
       "50%     389.500000   22.000000   92.000000    3.150000\n",
       "75%     584.250000   25.000000  138.000000    4.080000\n",
       "max     779.000000   45.000000  183.000000    4.990000"
      ]
     },
     "execution_count": 2,
     "metadata": {},
     "output_type": "execute_result"
    }
   ],
   "source": [
    "df.describe()"
   ]
  },
  {
   "cell_type": "code",
   "execution_count": 3,
   "id": "communist-excerpt",
   "metadata": {},
   "outputs": [
    {
     "data": {
      "text/html": [
       "<div>\n",
       "<style scoped>\n",
       "    .dataframe tbody tr th:only-of-type {\n",
       "        vertical-align: middle;\n",
       "    }\n",
       "\n",
       "    .dataframe tbody tr th {\n",
       "        vertical-align: top;\n",
       "    }\n",
       "\n",
       "    .dataframe thead th {\n",
       "        text-align: right;\n",
       "    }\n",
       "</style>\n",
       "<table border=\"1\" class=\"dataframe\">\n",
       "  <thead>\n",
       "    <tr style=\"text-align: right;\">\n",
       "      <th></th>\n",
       "      <th>Purchase ID</th>\n",
       "      <th>SN</th>\n",
       "      <th>Age</th>\n",
       "      <th>Gender</th>\n",
       "      <th>Item ID</th>\n",
       "      <th>Item Name</th>\n",
       "      <th>Price</th>\n",
       "    </tr>\n",
       "  </thead>\n",
       "  <tbody>\n",
       "    <tr>\n",
       "      <th>0</th>\n",
       "      <td>0</td>\n",
       "      <td>Lisim78</td>\n",
       "      <td>20</td>\n",
       "      <td>Male</td>\n",
       "      <td>108</td>\n",
       "      <td>Extraction, Quickblade Of Trembling Hands</td>\n",
       "      <td>3.53</td>\n",
       "    </tr>\n",
       "    <tr>\n",
       "      <th>1</th>\n",
       "      <td>1</td>\n",
       "      <td>Lisovynya38</td>\n",
       "      <td>40</td>\n",
       "      <td>Male</td>\n",
       "      <td>143</td>\n",
       "      <td>Frenzied Scimitar</td>\n",
       "      <td>1.56</td>\n",
       "    </tr>\n",
       "    <tr>\n",
       "      <th>2</th>\n",
       "      <td>2</td>\n",
       "      <td>Ithergue48</td>\n",
       "      <td>24</td>\n",
       "      <td>Male</td>\n",
       "      <td>92</td>\n",
       "      <td>Final Critic</td>\n",
       "      <td>4.88</td>\n",
       "    </tr>\n",
       "    <tr>\n",
       "      <th>3</th>\n",
       "      <td>3</td>\n",
       "      <td>Chamassasya86</td>\n",
       "      <td>24</td>\n",
       "      <td>Male</td>\n",
       "      <td>100</td>\n",
       "      <td>Blindscythe</td>\n",
       "      <td>3.27</td>\n",
       "    </tr>\n",
       "    <tr>\n",
       "      <th>4</th>\n",
       "      <td>4</td>\n",
       "      <td>Iskosia90</td>\n",
       "      <td>23</td>\n",
       "      <td>Male</td>\n",
       "      <td>131</td>\n",
       "      <td>Fury</td>\n",
       "      <td>1.44</td>\n",
       "    </tr>\n",
       "  </tbody>\n",
       "</table>\n",
       "</div>"
      ],
      "text/plain": [
       "   Purchase ID             SN  Age Gender  Item ID  \\\n",
       "0            0        Lisim78   20   Male      108   \n",
       "1            1    Lisovynya38   40   Male      143   \n",
       "2            2     Ithergue48   24   Male       92   \n",
       "3            3  Chamassasya86   24   Male      100   \n",
       "4            4      Iskosia90   23   Male      131   \n",
       "\n",
       "                                   Item Name  Price  \n",
       "0  Extraction, Quickblade Of Trembling Hands   3.53  \n",
       "1                          Frenzied Scimitar   1.56  \n",
       "2                               Final Critic   4.88  \n",
       "3                                Blindscythe   3.27  \n",
       "4                                       Fury   1.44  "
      ]
     },
     "execution_count": 3,
     "metadata": {},
     "output_type": "execute_result"
    }
   ],
   "source": [
    "df.head(5)"
   ]
  },
  {
   "cell_type": "markdown",
   "id": "residential-junction",
   "metadata": {},
   "source": [
    "## ANALYZE DATA\n",
    "---"
   ]
  },
  {
   "cell_type": "markdown",
   "id": "banned-england",
   "metadata": {},
   "source": [
    "### PLAYER ANALYSIS"
   ]
  },
  {
   "cell_type": "code",
   "execution_count": 4,
   "id": "governmental-findings",
   "metadata": {},
   "outputs": [
    {
     "name": "stdout",
     "output_type": "stream",
     "text": [
      "There are 576 unique players in the game\n"
     ]
    }
   ],
   "source": [
    "num_players = df['SN'].nunique() #Unique SN\n",
    "print(f\"There are {num_players} unique players in the game\")"
   ]
  },
  {
   "cell_type": "markdown",
   "id": "advanced-function",
   "metadata": {},
   "source": [
    "### PURCHASING ANALYSIS (TOTAL)"
   ]
  },
  {
   "cell_type": "code",
   "execution_count": 13,
   "id": "cooked-labor",
   "metadata": {},
   "outputs": [
    {
     "name": "stdout",
     "output_type": "stream",
     "text": [
      "There are 179 unique items\n",
      "The average purchase price is $3.05\n",
      "There are 780 purchases\n",
      "Total Purchases were $2379.77\n",
      "The average number of purchases is 1.35\n"
     ]
    }
   ],
   "source": [
    "num_items = df['Item ID'].nunique() #Unique SN\n",
    "print(f\"There are {num_items} unique items\")\n",
    "avg_price = df['Price'].mean()\n",
    "print(f\"The average purchase price is ${avg_price:.2f}\")\n",
    "num_purchases = len(df) #Each row is a purchase\n",
    "print(f\"There are {num_purchases} purchases\")\n",
    "rev_total = df['Price'].sum()\n",
    "print(f\"Total Purchases were ${rev_total:.2f}\")\n",
    "avg_purchases = num_purchases / num_players\n",
    "print(f\"The average number of purchases is {avg_purchases:.2f}\")"
   ]
  },
  {
   "cell_type": "markdown",
   "id": "satellite-circulation",
   "metadata": {},
   "source": [
    "### GENDER DEMOGRAPHICS"
   ]
  },
  {
   "cell_type": "code",
   "execution_count": 6,
   "id": "armed-presence",
   "metadata": {},
   "outputs": [
    {
     "data": {
      "text/html": [
       "<style  type=\"text/css\" >\n",
       "</style><table id=\"T_fb6cbc58_9d84_11eb_bc8d_a0999b0c32c9\" ><thead>    <tr>        <th class=\"blank level0\" ></th>        <th class=\"col_heading level0 col0\" >Players</th>        <th class=\"col_heading level0 col1\" >Percentage</th>    </tr>    <tr>        <th class=\"index_name level0\" >Gender</th>        <th class=\"blank\" ></th>        <th class=\"blank\" ></th>    </tr></thead><tbody>\n",
       "                <tr>\n",
       "                        <th id=\"T_fb6cbc58_9d84_11eb_bc8d_a0999b0c32c9level0_row0\" class=\"row_heading level0 row0\" >Female</th>\n",
       "                        <td id=\"T_fb6cbc58_9d84_11eb_bc8d_a0999b0c32c9row0_col0\" class=\"data row0 col0\" >81</td>\n",
       "                        <td id=\"T_fb6cbc58_9d84_11eb_bc8d_a0999b0c32c9row0_col1\" class=\"data row0 col1\" >14.06%</td>\n",
       "            </tr>\n",
       "            <tr>\n",
       "                        <th id=\"T_fb6cbc58_9d84_11eb_bc8d_a0999b0c32c9level0_row1\" class=\"row_heading level0 row1\" >Male</th>\n",
       "                        <td id=\"T_fb6cbc58_9d84_11eb_bc8d_a0999b0c32c9row1_col0\" class=\"data row1 col0\" >484</td>\n",
       "                        <td id=\"T_fb6cbc58_9d84_11eb_bc8d_a0999b0c32c9row1_col1\" class=\"data row1 col1\" >84.03%</td>\n",
       "            </tr>\n",
       "            <tr>\n",
       "                        <th id=\"T_fb6cbc58_9d84_11eb_bc8d_a0999b0c32c9level0_row2\" class=\"row_heading level0 row2\" >Other / Non-Disclosed</th>\n",
       "                        <td id=\"T_fb6cbc58_9d84_11eb_bc8d_a0999b0c32c9row2_col0\" class=\"data row2 col0\" >11</td>\n",
       "                        <td id=\"T_fb6cbc58_9d84_11eb_bc8d_a0999b0c32c9row2_col1\" class=\"data row2 col1\" >1.91%</td>\n",
       "            </tr>\n",
       "    </tbody></table>"
      ],
      "text/plain": [
       "<pandas.io.formats.style.Styler at 0x11d7c7e10>"
      ]
     },
     "execution_count": 6,
     "metadata": {},
     "output_type": "execute_result"
    }
   ],
   "source": [
    "gender_group = df.groupby(by=['Gender']) #Group By Gender\n",
    "gender_df = pd.DataFrame() #I'm going to make a DataFrame to house my statistics\n",
    "gender_df[\"Players\"] = gender_group['SN'].nunique()\n",
    "gender_df[\"Percentage\"] = gender_group['SN'].nunique() / num_players\n",
    "gender_df.style.format({'Percentage': '{:,.2%}'.format}) #format and show"
   ]
  },
  {
   "cell_type": "markdown",
   "id": "lyric-extent",
   "metadata": {},
   "source": [
    "### PURCHASING ANALYSIS (GENDER)"
   ]
  },
  {
   "cell_type": "code",
   "execution_count": 7,
   "id": "contained-minute",
   "metadata": {},
   "outputs": [
    {
     "data": {
      "text/html": [
       "<style  type=\"text/css\" >\n",
       "</style><table id=\"T_fb741340_9d84_11eb_b97c_a0999b0c32c9\" ><thead>    <tr>        <th class=\"blank level0\" ></th>        <th class=\"col_heading level0 col0\" >Purchases</th>        <th class=\"col_heading level0 col1\" >Average Price</th>        <th class=\"col_heading level0 col2\" >Total Value</th>        <th class=\"col_heading level0 col3\" >Value / Player</th>    </tr>    <tr>        <th class=\"index_name level0\" >Gender</th>        <th class=\"blank\" ></th>        <th class=\"blank\" ></th>        <th class=\"blank\" ></th>        <th class=\"blank\" ></th>    </tr></thead><tbody>\n",
       "                <tr>\n",
       "                        <th id=\"T_fb741340_9d84_11eb_b97c_a0999b0c32c9level0_row0\" class=\"row_heading level0 row0\" >Female</th>\n",
       "                        <td id=\"T_fb741340_9d84_11eb_b97c_a0999b0c32c9row0_col0\" class=\"data row0 col0\" >113</td>\n",
       "                        <td id=\"T_fb741340_9d84_11eb_b97c_a0999b0c32c9row0_col1\" class=\"data row0 col1\" >$3.20</td>\n",
       "                        <td id=\"T_fb741340_9d84_11eb_b97c_a0999b0c32c9row0_col2\" class=\"data row0 col2\" >$361.94</td>\n",
       "                        <td id=\"T_fb741340_9d84_11eb_b97c_a0999b0c32c9row0_col3\" class=\"data row0 col3\" >$4.47</td>\n",
       "            </tr>\n",
       "            <tr>\n",
       "                        <th id=\"T_fb741340_9d84_11eb_b97c_a0999b0c32c9level0_row1\" class=\"row_heading level0 row1\" >Male</th>\n",
       "                        <td id=\"T_fb741340_9d84_11eb_b97c_a0999b0c32c9row1_col0\" class=\"data row1 col0\" >652</td>\n",
       "                        <td id=\"T_fb741340_9d84_11eb_b97c_a0999b0c32c9row1_col1\" class=\"data row1 col1\" >$3.02</td>\n",
       "                        <td id=\"T_fb741340_9d84_11eb_b97c_a0999b0c32c9row1_col2\" class=\"data row1 col2\" >$1,967.64</td>\n",
       "                        <td id=\"T_fb741340_9d84_11eb_b97c_a0999b0c32c9row1_col3\" class=\"data row1 col3\" >$4.07</td>\n",
       "            </tr>\n",
       "            <tr>\n",
       "                        <th id=\"T_fb741340_9d84_11eb_b97c_a0999b0c32c9level0_row2\" class=\"row_heading level0 row2\" >Other / Non-Disclosed</th>\n",
       "                        <td id=\"T_fb741340_9d84_11eb_b97c_a0999b0c32c9row2_col0\" class=\"data row2 col0\" >15</td>\n",
       "                        <td id=\"T_fb741340_9d84_11eb_b97c_a0999b0c32c9row2_col1\" class=\"data row2 col1\" >$3.35</td>\n",
       "                        <td id=\"T_fb741340_9d84_11eb_b97c_a0999b0c32c9row2_col2\" class=\"data row2 col2\" >$50.19</td>\n",
       "                        <td id=\"T_fb741340_9d84_11eb_b97c_a0999b0c32c9row2_col3\" class=\"data row2 col3\" >$4.56</td>\n",
       "            </tr>\n",
       "    </tbody></table>"
      ],
      "text/plain": [
       "<pandas.io.formats.style.Styler at 0x11d787710>"
      ]
     },
     "execution_count": 7,
     "metadata": {},
     "output_type": "execute_result"
    }
   ],
   "source": [
    "gender_purchases_df = pd.DataFrame() #I'm going to make a DataFrame to house my statistics\n",
    "gender_purchases_df[\"Purchases\"] = gender_group['SN'].count() #count each row in each group\n",
    "gender_purchases_df[\"Average Price\"] = gender_group['Price'].mean() #Average\n",
    "gender_purchases_df[\"Total Value\"] = gender_group['Price'].sum() #Subtotal\n",
    "gender_purchases_df[\"Value / Player\"] = gender_purchases_df[\"Total Value\"] / gender_df[\"Players\"] #LTV = group rev / group size\n",
    "gender_purchases_df.style.format({\n",
    "    'Average Price': '${:,.2f}'.format,\n",
    "    'Total Value': '${:,.2f}'.format,\n",
    "    'Value / Player': '${:,.2f}'.format,\n",
    "})"
   ]
  },
  {
   "cell_type": "markdown",
   "id": "indirect-billy",
   "metadata": {},
   "source": [
    "### AGE DEMOGRAPHICS"
   ]
  },
  {
   "cell_type": "code",
   "execution_count": 8,
   "id": "unlikely-portland",
   "metadata": {},
   "outputs": [
    {
     "data": {
      "text/html": [
       "<style  type=\"text/css\" >\n",
       "</style><table id=\"T_fb805934_9d84_11eb_8ed0_a0999b0c32c9\" ><thead>    <tr>        <th class=\"blank level0\" ></th>        <th class=\"col_heading level0 col0\" >Players</th>        <th class=\"col_heading level0 col1\" >Purchases</th>        <th class=\"col_heading level0 col2\" >Average Price</th>        <th class=\"col_heading level0 col3\" >Total Value</th>        <th class=\"col_heading level0 col4\" >Value / Player</th>    </tr>    <tr>        <th class=\"index_name level0\" >Age Group</th>        <th class=\"blank\" ></th>        <th class=\"blank\" ></th>        <th class=\"blank\" ></th>        <th class=\"blank\" ></th>        <th class=\"blank\" ></th>    </tr></thead><tbody>\n",
       "                <tr>\n",
       "                        <th id=\"T_fb805934_9d84_11eb_8ed0_a0999b0c32c9level0_row0\" class=\"row_heading level0 row0\" >[0, 10)</th>\n",
       "                        <td id=\"T_fb805934_9d84_11eb_8ed0_a0999b0c32c9row0_col0\" class=\"data row0 col0\" >17</td>\n",
       "                        <td id=\"T_fb805934_9d84_11eb_8ed0_a0999b0c32c9row0_col1\" class=\"data row0 col1\" >23</td>\n",
       "                        <td id=\"T_fb805934_9d84_11eb_8ed0_a0999b0c32c9row0_col2\" class=\"data row0 col2\" >$3.35</td>\n",
       "                        <td id=\"T_fb805934_9d84_11eb_8ed0_a0999b0c32c9row0_col3\" class=\"data row0 col3\" >$77.13</td>\n",
       "                        <td id=\"T_fb805934_9d84_11eb_8ed0_a0999b0c32c9row0_col4\" class=\"data row0 col4\" >$4.54</td>\n",
       "            </tr>\n",
       "            <tr>\n",
       "                        <th id=\"T_fb805934_9d84_11eb_8ed0_a0999b0c32c9level0_row1\" class=\"row_heading level0 row1\" >[10, 14)</th>\n",
       "                        <td id=\"T_fb805934_9d84_11eb_8ed0_a0999b0c32c9row1_col0\" class=\"data row1 col0\" >20</td>\n",
       "                        <td id=\"T_fb805934_9d84_11eb_8ed0_a0999b0c32c9row1_col1\" class=\"data row1 col1\" >26</td>\n",
       "                        <td id=\"T_fb805934_9d84_11eb_8ed0_a0999b0c32c9row1_col2\" class=\"data row1 col2\" >$2.92</td>\n",
       "                        <td id=\"T_fb805934_9d84_11eb_8ed0_a0999b0c32c9row1_col3\" class=\"data row1 col3\" >$75.87</td>\n",
       "                        <td id=\"T_fb805934_9d84_11eb_8ed0_a0999b0c32c9row1_col4\" class=\"data row1 col4\" >$3.79</td>\n",
       "            </tr>\n",
       "            <tr>\n",
       "                        <th id=\"T_fb805934_9d84_11eb_8ed0_a0999b0c32c9level0_row2\" class=\"row_heading level0 row2\" >[14, 18)</th>\n",
       "                        <td id=\"T_fb805934_9d84_11eb_8ed0_a0999b0c32c9row2_col0\" class=\"data row2 col0\" >71</td>\n",
       "                        <td id=\"T_fb805934_9d84_11eb_8ed0_a0999b0c32c9row2_col1\" class=\"data row2 col1\" >89</td>\n",
       "                        <td id=\"T_fb805934_9d84_11eb_8ed0_a0999b0c32c9row2_col2\" class=\"data row2 col2\" >$3.01</td>\n",
       "                        <td id=\"T_fb805934_9d84_11eb_8ed0_a0999b0c32c9row2_col3\" class=\"data row2 col3\" >$267.60</td>\n",
       "                        <td id=\"T_fb805934_9d84_11eb_8ed0_a0999b0c32c9row2_col4\" class=\"data row2 col4\" >$3.77</td>\n",
       "            </tr>\n",
       "            <tr>\n",
       "                        <th id=\"T_fb805934_9d84_11eb_8ed0_a0999b0c32c9level0_row3\" class=\"row_heading level0 row3\" >[18, 22)</th>\n",
       "                        <td id=\"T_fb805934_9d84_11eb_8ed0_a0999b0c32c9row3_col0\" class=\"data row3 col0\" >150</td>\n",
       "                        <td id=\"T_fb805934_9d84_11eb_8ed0_a0999b0c32c9row3_col1\" class=\"data row3 col1\" >210</td>\n",
       "                        <td id=\"T_fb805934_9d84_11eb_8ed0_a0999b0c32c9row3_col2\" class=\"data row3 col2\" >$3.08</td>\n",
       "                        <td id=\"T_fb805934_9d84_11eb_8ed0_a0999b0c32c9row3_col3\" class=\"data row3 col3\" >$647.26</td>\n",
       "                        <td id=\"T_fb805934_9d84_11eb_8ed0_a0999b0c32c9row3_col4\" class=\"data row3 col4\" >$4.32</td>\n",
       "            </tr>\n",
       "            <tr>\n",
       "                        <th id=\"T_fb805934_9d84_11eb_8ed0_a0999b0c32c9level0_row4\" class=\"row_heading level0 row4\" >[22, 26)</th>\n",
       "                        <td id=\"T_fb805934_9d84_11eb_8ed0_a0999b0c32c9row4_col0\" class=\"data row4 col0\" >189</td>\n",
       "                        <td id=\"T_fb805934_9d84_11eb_8ed0_a0999b0c32c9row4_col1\" class=\"data row4 col1\" >263</td>\n",
       "                        <td id=\"T_fb805934_9d84_11eb_8ed0_a0999b0c32c9row4_col2\" class=\"data row4 col2\" >$3.05</td>\n",
       "                        <td id=\"T_fb805934_9d84_11eb_8ed0_a0999b0c32c9row4_col3\" class=\"data row4 col3\" >$800.90</td>\n",
       "                        <td id=\"T_fb805934_9d84_11eb_8ed0_a0999b0c32c9row4_col4\" class=\"data row4 col4\" >$4.24</td>\n",
       "            </tr>\n",
       "            <tr>\n",
       "                        <th id=\"T_fb805934_9d84_11eb_8ed0_a0999b0c32c9level0_row5\" class=\"row_heading level0 row5\" >[26, 30)</th>\n",
       "                        <td id=\"T_fb805934_9d84_11eb_8ed0_a0999b0c32c9row5_col0\" class=\"data row5 col0\" >34</td>\n",
       "                        <td id=\"T_fb805934_9d84_11eb_8ed0_a0999b0c32c9row5_col1\" class=\"data row5 col1\" >42</td>\n",
       "                        <td id=\"T_fb805934_9d84_11eb_8ed0_a0999b0c32c9row5_col2\" class=\"data row5 col2\" >$2.65</td>\n",
       "                        <td id=\"T_fb805934_9d84_11eb_8ed0_a0999b0c32c9row5_col3\" class=\"data row5 col3\" >$111.10</td>\n",
       "                        <td id=\"T_fb805934_9d84_11eb_8ed0_a0999b0c32c9row5_col4\" class=\"data row5 col4\" >$3.27</td>\n",
       "            </tr>\n",
       "            <tr>\n",
       "                        <th id=\"T_fb805934_9d84_11eb_8ed0_a0999b0c32c9level0_row6\" class=\"row_heading level0 row6\" >[30, 34)</th>\n",
       "                        <td id=\"T_fb805934_9d84_11eb_8ed0_a0999b0c32c9row6_col0\" class=\"data row6 col0\" >45</td>\n",
       "                        <td id=\"T_fb805934_9d84_11eb_8ed0_a0999b0c32c9row6_col1\" class=\"data row6 col1\" >64</td>\n",
       "                        <td id=\"T_fb805934_9d84_11eb_8ed0_a0999b0c32c9row6_col2\" class=\"data row6 col2\" >$3.00</td>\n",
       "                        <td id=\"T_fb805934_9d84_11eb_8ed0_a0999b0c32c9row6_col3\" class=\"data row6 col3\" >$191.87</td>\n",
       "                        <td id=\"T_fb805934_9d84_11eb_8ed0_a0999b0c32c9row6_col4\" class=\"data row6 col4\" >$4.26</td>\n",
       "            </tr>\n",
       "            <tr>\n",
       "                        <th id=\"T_fb805934_9d84_11eb_8ed0_a0999b0c32c9level0_row7\" class=\"row_heading level0 row7\" >[34, 38)</th>\n",
       "                        <td id=\"T_fb805934_9d84_11eb_8ed0_a0999b0c32c9row7_col0\" class=\"data row7 col0\" >27</td>\n",
       "                        <td id=\"T_fb805934_9d84_11eb_8ed0_a0999b0c32c9row7_col1\" class=\"data row7 col1\" >35</td>\n",
       "                        <td id=\"T_fb805934_9d84_11eb_8ed0_a0999b0c32c9row7_col2\" class=\"data row7 col2\" >$3.21</td>\n",
       "                        <td id=\"T_fb805934_9d84_11eb_8ed0_a0999b0c32c9row7_col3\" class=\"data row7 col3\" >$112.33</td>\n",
       "                        <td id=\"T_fb805934_9d84_11eb_8ed0_a0999b0c32c9row7_col4\" class=\"data row7 col4\" >$4.16</td>\n",
       "            </tr>\n",
       "            <tr>\n",
       "                        <th id=\"T_fb805934_9d84_11eb_8ed0_a0999b0c32c9level0_row8\" class=\"row_heading level0 row8\" >[38, 42)</th>\n",
       "                        <td id=\"T_fb805934_9d84_11eb_8ed0_a0999b0c32c9row8_col0\" class=\"data row8 col0\" >18</td>\n",
       "                        <td id=\"T_fb805934_9d84_11eb_8ed0_a0999b0c32c9row8_col1\" class=\"data row8 col1\" >23</td>\n",
       "                        <td id=\"T_fb805934_9d84_11eb_8ed0_a0999b0c32c9row8_col2\" class=\"data row8 col2\" >$3.51</td>\n",
       "                        <td id=\"T_fb805934_9d84_11eb_8ed0_a0999b0c32c9row8_col3\" class=\"data row8 col3\" >$80.72</td>\n",
       "                        <td id=\"T_fb805934_9d84_11eb_8ed0_a0999b0c32c9row8_col4\" class=\"data row8 col4\" >$4.48</td>\n",
       "            </tr>\n",
       "            <tr>\n",
       "                        <th id=\"T_fb805934_9d84_11eb_8ed0_a0999b0c32c9level0_row9\" class=\"row_heading level0 row9\" >[42, 46)</th>\n",
       "                        <td id=\"T_fb805934_9d84_11eb_8ed0_a0999b0c32c9row9_col0\" class=\"data row9 col0\" >5</td>\n",
       "                        <td id=\"T_fb805934_9d84_11eb_8ed0_a0999b0c32c9row9_col1\" class=\"data row9 col1\" >5</td>\n",
       "                        <td id=\"T_fb805934_9d84_11eb_8ed0_a0999b0c32c9row9_col2\" class=\"data row9 col2\" >$3.00</td>\n",
       "                        <td id=\"T_fb805934_9d84_11eb_8ed0_a0999b0c32c9row9_col3\" class=\"data row9 col3\" >$14.99</td>\n",
       "                        <td id=\"T_fb805934_9d84_11eb_8ed0_a0999b0c32c9row9_col4\" class=\"data row9 col4\" >$3.00</td>\n",
       "            </tr>\n",
       "    </tbody></table>"
      ],
      "text/plain": [
       "<pandas.io.formats.style.Styler at 0x11e95c320>"
      ]
     },
     "execution_count": 8,
     "metadata": {},
     "output_type": "execute_result"
    }
   ],
   "source": [
    "#First Prepare the Bins and Group\n",
    "age_bin_max = round((max(df['Age'])-10) / 4)+1#MATH = How many bins will need? \n",
    "age_bins = [0,10] + [10+i*4 for i in range(1,age_bin_max)] #Make my bins\n",
    "df['Age Group'] = pd.cut(df['Age'], age_bins, right=False) #Add 'Age Group' Column\n",
    "age_groups = df.groupby(['Age Group']) #Groupby 'Age Group'\n",
    "\n",
    "#Analyze\n",
    "age_df = pd.DataFrame()#I'm going to make a DataFrame to house my statistics\n",
    "age_df[\"Players\"] = age_groups['SN'].nunique() #How many people in each group?\n",
    "age_df[\"Purchases\"] = age_groups['SN'].count() #How many purchases\n",
    "age_df[\"Average Price\"] = age_groups['Price'].mean() #Average purchase price\n",
    "age_df[\"Total Value\"] = age_groups['Price'].sum() #Sum of Prices\n",
    "age_df[\"Value / Player\"] = age_df[\"Total Value\"] / age_df[\"Players\"] #LTV = group rev / group size\n",
    "age_df.style.format({\n",
    "    'Average Price': '${:,.2f}'.format,\n",
    "    'Total Value': '${:,.2f}'.format,\n",
    "    'Value / Player': '${:,.2f}'.format,\n",
    "})"
   ]
  },
  {
   "cell_type": "markdown",
   "id": "imperial-photography",
   "metadata": {},
   "source": [
    "### TOP SPENDERS"
   ]
  },
  {
   "cell_type": "code",
   "execution_count": 9,
   "id": "ceramic-onion",
   "metadata": {},
   "outputs": [
    {
     "data": {
      "text/html": [
       "<style  type=\"text/css\" >\n",
       "</style><table id=\"T_fb882c36_9d84_11eb_9574_a0999b0c32c9\" ><thead>    <tr>        <th class=\"blank level0\" ></th>        <th class=\"col_heading level0 col0\" >Total Purchases</th>        <th class=\"col_heading level0 col1\" >Purchase Count</th>        <th class=\"col_heading level0 col2\" >Average Purchase Price</th>    </tr>    <tr>        <th class=\"index_name level0\" >SN</th>        <th class=\"blank\" ></th>        <th class=\"blank\" ></th>        <th class=\"blank\" ></th>    </tr></thead><tbody>\n",
       "                <tr>\n",
       "                        <th id=\"T_fb882c36_9d84_11eb_9574_a0999b0c32c9level0_row0\" class=\"row_heading level0 row0\" >Lisosia93</th>\n",
       "                        <td id=\"T_fb882c36_9d84_11eb_9574_a0999b0c32c9row0_col0\" class=\"data row0 col0\" >$18.96</td>\n",
       "                        <td id=\"T_fb882c36_9d84_11eb_9574_a0999b0c32c9row0_col1\" class=\"data row0 col1\" >5</td>\n",
       "                        <td id=\"T_fb882c36_9d84_11eb_9574_a0999b0c32c9row0_col2\" class=\"data row0 col2\" >$3.79</td>\n",
       "            </tr>\n",
       "            <tr>\n",
       "                        <th id=\"T_fb882c36_9d84_11eb_9574_a0999b0c32c9level0_row1\" class=\"row_heading level0 row1\" >Idastidru52</th>\n",
       "                        <td id=\"T_fb882c36_9d84_11eb_9574_a0999b0c32c9row1_col0\" class=\"data row1 col0\" >$15.45</td>\n",
       "                        <td id=\"T_fb882c36_9d84_11eb_9574_a0999b0c32c9row1_col1\" class=\"data row1 col1\" >4</td>\n",
       "                        <td id=\"T_fb882c36_9d84_11eb_9574_a0999b0c32c9row1_col2\" class=\"data row1 col2\" >$3.86</td>\n",
       "            </tr>\n",
       "            <tr>\n",
       "                        <th id=\"T_fb882c36_9d84_11eb_9574_a0999b0c32c9level0_row2\" class=\"row_heading level0 row2\" >Chamjask73</th>\n",
       "                        <td id=\"T_fb882c36_9d84_11eb_9574_a0999b0c32c9row2_col0\" class=\"data row2 col0\" >$13.83</td>\n",
       "                        <td id=\"T_fb882c36_9d84_11eb_9574_a0999b0c32c9row2_col1\" class=\"data row2 col1\" >3</td>\n",
       "                        <td id=\"T_fb882c36_9d84_11eb_9574_a0999b0c32c9row2_col2\" class=\"data row2 col2\" >$4.61</td>\n",
       "            </tr>\n",
       "            <tr>\n",
       "                        <th id=\"T_fb882c36_9d84_11eb_9574_a0999b0c32c9level0_row3\" class=\"row_heading level0 row3\" >Iral74</th>\n",
       "                        <td id=\"T_fb882c36_9d84_11eb_9574_a0999b0c32c9row3_col0\" class=\"data row3 col0\" >$13.62</td>\n",
       "                        <td id=\"T_fb882c36_9d84_11eb_9574_a0999b0c32c9row3_col1\" class=\"data row3 col1\" >4</td>\n",
       "                        <td id=\"T_fb882c36_9d84_11eb_9574_a0999b0c32c9row3_col2\" class=\"data row3 col2\" >$3.40</td>\n",
       "            </tr>\n",
       "            <tr>\n",
       "                        <th id=\"T_fb882c36_9d84_11eb_9574_a0999b0c32c9level0_row4\" class=\"row_heading level0 row4\" >Iskadarya95</th>\n",
       "                        <td id=\"T_fb882c36_9d84_11eb_9574_a0999b0c32c9row4_col0\" class=\"data row4 col0\" >$13.10</td>\n",
       "                        <td id=\"T_fb882c36_9d84_11eb_9574_a0999b0c32c9row4_col1\" class=\"data row4 col1\" >3</td>\n",
       "                        <td id=\"T_fb882c36_9d84_11eb_9574_a0999b0c32c9row4_col2\" class=\"data row4 col2\" >$4.37</td>\n",
       "            </tr>\n",
       "    </tbody></table>"
      ],
      "text/plain": [
       "<pandas.io.formats.style.Styler at 0x11e943f28>"
      ]
     },
     "execution_count": 9,
     "metadata": {},
     "output_type": "execute_result"
    }
   ],
   "source": [
    "player_group = df.groupby('SN')#Want unique players\n",
    "top_spenders = pd.DataFrame()#I'm going to make a DataFrame to house my statistics\n",
    "top_spenders['Total Purchases'] = player_group['Price'].sum()\n",
    "top_spenders['Purchase Count'] = player_group['Price'].count()\n",
    "top_spenders['Average Purchase Price'] = top_spenders['Total Purchases'] / top_spenders['Purchase Count']\n",
    "top_spenders = top_spenders.sort_values('Total Purchases', ascending=False) # Sort by 'Total Purchases'\n",
    "top_5_spenders = top_spenders.iloc[0:5,:] # Just get the top 5\n",
    "top_5_spenders.style.format({\n",
    "    'Total Purchases': '${:,.2f}'.format,\n",
    "    'Average Purchase Price': '${:,.2f}'.format,\n",
    "})"
   ]
  },
  {
   "cell_type": "markdown",
   "id": "removed-apparel",
   "metadata": {},
   "source": [
    "### MOST POPULAR ITEMS"
   ]
  },
  {
   "cell_type": "code",
   "execution_count": 10,
   "id": "matched-bearing",
   "metadata": {},
   "outputs": [
    {
     "data": {
      "text/html": [
       "<style  type=\"text/css\" >\n",
       "</style><table id=\"T_fb8ea340_9d84_11eb_ac43_a0999b0c32c9\" ><thead>    <tr>        <th class=\"blank\" ></th>        <th class=\"blank level0\" ></th>        <th class=\"col_heading level0 col0\" >Purchase Count</th>        <th class=\"col_heading level0 col1\" >Total Purchase Value</th>        <th class=\"col_heading level0 col2\" >Average Price</th>    </tr>    <tr>        <th class=\"index_name level0\" >Item Name</th>        <th class=\"index_name level1\" >Item ID</th>        <th class=\"blank\" ></th>        <th class=\"blank\" ></th>        <th class=\"blank\" ></th>    </tr></thead><tbody>\n",
       "                <tr>\n",
       "                        <th id=\"T_fb8ea340_9d84_11eb_ac43_a0999b0c32c9level0_row0\" class=\"row_heading level0 row0\" >Final Critic</th>\n",
       "                        <th id=\"T_fb8ea340_9d84_11eb_ac43_a0999b0c32c9level1_row0\" class=\"row_heading level1 row0\" >92</th>\n",
       "                        <td id=\"T_fb8ea340_9d84_11eb_ac43_a0999b0c32c9row0_col0\" class=\"data row0 col0\" >13</td>\n",
       "                        <td id=\"T_fb8ea340_9d84_11eb_ac43_a0999b0c32c9row0_col1\" class=\"data row0 col1\" >$59.99</td>\n",
       "                        <td id=\"T_fb8ea340_9d84_11eb_ac43_a0999b0c32c9row0_col2\" class=\"data row0 col2\" >$4.61</td>\n",
       "            </tr>\n",
       "            <tr>\n",
       "                        <th id=\"T_fb8ea340_9d84_11eb_ac43_a0999b0c32c9level0_row1\" class=\"row_heading level0 row1\" >Oathbreaker, Last Hope of the Breaking Storm</th>\n",
       "                        <th id=\"T_fb8ea340_9d84_11eb_ac43_a0999b0c32c9level1_row1\" class=\"row_heading level1 row1\" >178</th>\n",
       "                        <td id=\"T_fb8ea340_9d84_11eb_ac43_a0999b0c32c9row1_col0\" class=\"data row1 col0\" >12</td>\n",
       "                        <td id=\"T_fb8ea340_9d84_11eb_ac43_a0999b0c32c9row1_col1\" class=\"data row1 col1\" >$50.76</td>\n",
       "                        <td id=\"T_fb8ea340_9d84_11eb_ac43_a0999b0c32c9row1_col2\" class=\"data row1 col2\" >$4.23</td>\n",
       "            </tr>\n",
       "            <tr>\n",
       "                        <th id=\"T_fb8ea340_9d84_11eb_ac43_a0999b0c32c9level0_row2\" class=\"row_heading level0 row2\" >Persuasion</th>\n",
       "                        <th id=\"T_fb8ea340_9d84_11eb_ac43_a0999b0c32c9level1_row2\" class=\"row_heading level1 row2\" >132</th>\n",
       "                        <td id=\"T_fb8ea340_9d84_11eb_ac43_a0999b0c32c9row2_col0\" class=\"data row2 col0\" >9</td>\n",
       "                        <td id=\"T_fb8ea340_9d84_11eb_ac43_a0999b0c32c9row2_col1\" class=\"data row2 col1\" >$28.99</td>\n",
       "                        <td id=\"T_fb8ea340_9d84_11eb_ac43_a0999b0c32c9row2_col2\" class=\"data row2 col2\" >$3.22</td>\n",
       "            </tr>\n",
       "            <tr>\n",
       "                        <th id=\"T_fb8ea340_9d84_11eb_ac43_a0999b0c32c9level0_row3\" class=\"row_heading level0 row3\" >Nirvana</th>\n",
       "                        <th id=\"T_fb8ea340_9d84_11eb_ac43_a0999b0c32c9level1_row3\" class=\"row_heading level1 row3\" >82</th>\n",
       "                        <td id=\"T_fb8ea340_9d84_11eb_ac43_a0999b0c32c9row3_col0\" class=\"data row3 col0\" >9</td>\n",
       "                        <td id=\"T_fb8ea340_9d84_11eb_ac43_a0999b0c32c9row3_col1\" class=\"data row3 col1\" >$44.10</td>\n",
       "                        <td id=\"T_fb8ea340_9d84_11eb_ac43_a0999b0c32c9row3_col2\" class=\"data row3 col2\" >$4.90</td>\n",
       "            </tr>\n",
       "            <tr>\n",
       "                        <th id=\"T_fb8ea340_9d84_11eb_ac43_a0999b0c32c9level0_row4\" class=\"row_heading level0 row4\" >Extraction, Quickblade Of Trembling Hands</th>\n",
       "                        <th id=\"T_fb8ea340_9d84_11eb_ac43_a0999b0c32c9level1_row4\" class=\"row_heading level1 row4\" >108</th>\n",
       "                        <td id=\"T_fb8ea340_9d84_11eb_ac43_a0999b0c32c9row4_col0\" class=\"data row4 col0\" >9</td>\n",
       "                        <td id=\"T_fb8ea340_9d84_11eb_ac43_a0999b0c32c9row4_col1\" class=\"data row4 col1\" >$31.77</td>\n",
       "                        <td id=\"T_fb8ea340_9d84_11eb_ac43_a0999b0c32c9row4_col2\" class=\"data row4 col2\" >$3.53</td>\n",
       "            </tr>\n",
       "    </tbody></table>"
      ],
      "text/plain": [
       "<pandas.io.formats.style.Styler at 0x11e9437b8>"
      ]
     },
     "execution_count": 10,
     "metadata": {},
     "output_type": "execute_result"
    }
   ],
   "source": [
    "item_group = df.groupby(['Item Name','Item ID']) #Want Unique Items\n",
    "pop_items = pd.DataFrame()#I'm going to make a DataFrame to house my statistics\n",
    "pop_items['Purchase Count'] = item_group['Price'].count()\n",
    "pop_items['Total Purchase Value'] = item_group['Price'].sum()\n",
    "pop_items['Average Price'] = item_group['Price'].mean() #some items have multiple prices\n",
    "pop_items = pop_items.sort_values('Purchase Count', ascending=False) #Sort by 'Purchase Count'\n",
    "most_popular_items = pop_items.iloc[0:5,:] #Just get top 5\n",
    "most_popular_items.style.format({\n",
    "    'Total Purchase Value': '${:,.2f}'.format,\n",
    "    'Average Price': '${:,.2f}'.format,\n",
    "})"
   ]
  },
  {
   "cell_type": "markdown",
   "id": "ultimate-drink",
   "metadata": {},
   "source": [
    "### MOST PROFITABLE ITEMS"
   ]
  },
  {
   "cell_type": "code",
   "execution_count": 11,
   "id": "twelve-receiver",
   "metadata": {},
   "outputs": [
    {
     "data": {
      "text/html": [
       "<style  type=\"text/css\" >\n",
       "</style><table id=\"T_fb92f5e4_9d84_11eb_9132_a0999b0c32c9\" ><thead>    <tr>        <th class=\"blank\" ></th>        <th class=\"blank level0\" ></th>        <th class=\"col_heading level0 col0\" >Purchase Count</th>        <th class=\"col_heading level0 col1\" >Total Purchase Value</th>        <th class=\"col_heading level0 col2\" >Average Price</th>    </tr>    <tr>        <th class=\"index_name level0\" >Item Name</th>        <th class=\"index_name level1\" >Item ID</th>        <th class=\"blank\" ></th>        <th class=\"blank\" ></th>        <th class=\"blank\" ></th>    </tr></thead><tbody>\n",
       "                <tr>\n",
       "                        <th id=\"T_fb92f5e4_9d84_11eb_9132_a0999b0c32c9level0_row0\" class=\"row_heading level0 row0\" >Final Critic</th>\n",
       "                        <th id=\"T_fb92f5e4_9d84_11eb_9132_a0999b0c32c9level1_row0\" class=\"row_heading level1 row0\" >92</th>\n",
       "                        <td id=\"T_fb92f5e4_9d84_11eb_9132_a0999b0c32c9row0_col0\" class=\"data row0 col0\" >13</td>\n",
       "                        <td id=\"T_fb92f5e4_9d84_11eb_9132_a0999b0c32c9row0_col1\" class=\"data row0 col1\" >$59.99</td>\n",
       "                        <td id=\"T_fb92f5e4_9d84_11eb_9132_a0999b0c32c9row0_col2\" class=\"data row0 col2\" >$4.61</td>\n",
       "            </tr>\n",
       "            <tr>\n",
       "                        <th id=\"T_fb92f5e4_9d84_11eb_9132_a0999b0c32c9level0_row1\" class=\"row_heading level0 row1\" >Oathbreaker, Last Hope of the Breaking Storm</th>\n",
       "                        <th id=\"T_fb92f5e4_9d84_11eb_9132_a0999b0c32c9level1_row1\" class=\"row_heading level1 row1\" >178</th>\n",
       "                        <td id=\"T_fb92f5e4_9d84_11eb_9132_a0999b0c32c9row1_col0\" class=\"data row1 col0\" >12</td>\n",
       "                        <td id=\"T_fb92f5e4_9d84_11eb_9132_a0999b0c32c9row1_col1\" class=\"data row1 col1\" >$50.76</td>\n",
       "                        <td id=\"T_fb92f5e4_9d84_11eb_9132_a0999b0c32c9row1_col2\" class=\"data row1 col2\" >$4.23</td>\n",
       "            </tr>\n",
       "            <tr>\n",
       "                        <th id=\"T_fb92f5e4_9d84_11eb_9132_a0999b0c32c9level0_row2\" class=\"row_heading level0 row2\" >Nirvana</th>\n",
       "                        <th id=\"T_fb92f5e4_9d84_11eb_9132_a0999b0c32c9level1_row2\" class=\"row_heading level1 row2\" >82</th>\n",
       "                        <td id=\"T_fb92f5e4_9d84_11eb_9132_a0999b0c32c9row2_col0\" class=\"data row2 col0\" >9</td>\n",
       "                        <td id=\"T_fb92f5e4_9d84_11eb_9132_a0999b0c32c9row2_col1\" class=\"data row2 col1\" >$44.10</td>\n",
       "                        <td id=\"T_fb92f5e4_9d84_11eb_9132_a0999b0c32c9row2_col2\" class=\"data row2 col2\" >$4.90</td>\n",
       "            </tr>\n",
       "            <tr>\n",
       "                        <th id=\"T_fb92f5e4_9d84_11eb_9132_a0999b0c32c9level0_row3\" class=\"row_heading level0 row3\" >Fiery Glass Crusader</th>\n",
       "                        <th id=\"T_fb92f5e4_9d84_11eb_9132_a0999b0c32c9level1_row3\" class=\"row_heading level1 row3\" >145</th>\n",
       "                        <td id=\"T_fb92f5e4_9d84_11eb_9132_a0999b0c32c9row3_col0\" class=\"data row3 col0\" >9</td>\n",
       "                        <td id=\"T_fb92f5e4_9d84_11eb_9132_a0999b0c32c9row3_col1\" class=\"data row3 col1\" >$41.22</td>\n",
       "                        <td id=\"T_fb92f5e4_9d84_11eb_9132_a0999b0c32c9row3_col2\" class=\"data row3 col2\" >$4.58</td>\n",
       "            </tr>\n",
       "            <tr>\n",
       "                        <th id=\"T_fb92f5e4_9d84_11eb_9132_a0999b0c32c9level0_row4\" class=\"row_heading level0 row4\" >Singed Scalpel</th>\n",
       "                        <th id=\"T_fb92f5e4_9d84_11eb_9132_a0999b0c32c9level1_row4\" class=\"row_heading level1 row4\" >103</th>\n",
       "                        <td id=\"T_fb92f5e4_9d84_11eb_9132_a0999b0c32c9row4_col0\" class=\"data row4 col0\" >8</td>\n",
       "                        <td id=\"T_fb92f5e4_9d84_11eb_9132_a0999b0c32c9row4_col1\" class=\"data row4 col1\" >$34.80</td>\n",
       "                        <td id=\"T_fb92f5e4_9d84_11eb_9132_a0999b0c32c9row4_col2\" class=\"data row4 col2\" >$4.35</td>\n",
       "            </tr>\n",
       "    </tbody></table>"
      ],
      "text/plain": [
       "<pandas.io.formats.style.Styler at 0x11d7c78d0>"
      ]
     },
     "execution_count": 11,
     "metadata": {},
     "output_type": "execute_result"
    }
   ],
   "source": [
    "prof_items = pop_items.sort_values('Total Purchase Value', ascending=False) # It's the same data as pop items\n",
    "most_profitable_items = prof_items.iloc[0:5,:] #Just get top 5\n",
    "most_profitable_items.style.format({\n",
    "    'Total Purchase Value': '${:,.2f}'.format,\n",
    "    'Average Price': '${:,.2f}'.format,\n",
    "})"
   ]
  }
 ],
 "metadata": {
  "kernelspec": {
   "display_name": "Python [conda env:PythonData] *",
   "language": "python",
   "name": "conda-env-PythonData-py"
  },
  "language_info": {
   "codemirror_mode": {
    "name": "ipython",
    "version": 3
   },
   "file_extension": ".py",
   "mimetype": "text/x-python",
   "name": "python",
   "nbconvert_exporter": "python",
   "pygments_lexer": "ipython3",
   "version": "3.6.10"
  }
 },
 "nbformat": 4,
 "nbformat_minor": 5
}
