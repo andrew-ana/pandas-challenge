{
 "cells": [
  {
   "cell_type": "markdown",
   "id": "consistent-variable",
   "metadata": {},
   "source": [
    "# Heroes of Pymoli \n",
    "### Andrew Anastasiades | @andrew-ana\n",
    "---"
   ]
  },
  {
   "cell_type": "markdown",
   "id": "light-twist",
   "metadata": {},
   "source": [
    "## LOAD DATA\n",
    "---"
   ]
  },
  {
   "cell_type": "code",
   "execution_count": null,
   "id": "informative-priority",
   "metadata": {},
   "outputs": [],
   "source": [
    "# DEPENDENCIES\n",
    "import pandas as pd #File IO and Data Manipulation\n",
    "import os #OS agnostic file structure\n",
    "# FILE PATHS\n",
    "purchase_filename = os.path.join(\"Resources\", \"purchase_data.csv\")\n",
    "# INITIALIZE DATAFRAME FROM FILE\n",
    "df = pd.read_csv(purchase_filename)"
   ]
  },
  {
   "cell_type": "markdown",
   "id": "unique-greek",
   "metadata": {},
   "source": [
    "## INSPECT DATA\n",
    "---"
   ]
  },
  {
   "cell_type": "code",
   "execution_count": null,
   "id": "eight-accreditation",
   "metadata": {},
   "outputs": [],
   "source": [
    "df.describe()"
   ]
  },
  {
   "cell_type": "code",
   "execution_count": null,
   "id": "hundred-spain",
   "metadata": {},
   "outputs": [],
   "source": [
    "df.head(5)"
   ]
  },
  {
   "cell_type": "markdown",
   "id": "settled-zimbabwe",
   "metadata": {},
   "source": [
    "## ANALYZE DATA\n",
    "---"
   ]
  },
  {
   "cell_type": "markdown",
   "id": "signal-element",
   "metadata": {},
   "source": [
    "### PLAYER ANALYSIS"
   ]
  },
  {
   "cell_type": "code",
   "execution_count": null,
   "id": "twelve-contemporary",
   "metadata": {},
   "outputs": [],
   "source": [
    "num_players = df['SN'].nunique() #Unique SN\n",
    "print(f\"There are {num_players} unique players in the game\")"
   ]
  },
  {
   "cell_type": "markdown",
   "id": "endangered-leadership",
   "metadata": {},
   "source": [
    "### PURCHASING ANALYSIS (TOTAL)"
   ]
  },
  {
   "cell_type": "code",
   "execution_count": null,
   "id": "sweet-stadium",
   "metadata": {},
   "outputs": [],
   "source": [
    "num_items = df['Item ID'].nunique() #Unique SN\n",
    "print(f\"There are {num_items} unique items\")\n",
    "avg_price = df['Price'].mean()\n",
    "print(f\"The average purchase price is ${avg_price:.2f}\")\n",
    "num_purchases = len(df) #Each row is a purchase\n",
    "print(f\"There are {num_purchases} purchases\")\n",
    "rev_total = df['Price'].sum()\n",
    "print(f\"Total Purchases were ${avg_price:.2f}\")"
   ]
  },
  {
   "cell_type": "markdown",
   "id": "adverse-cartoon",
   "metadata": {},
   "source": [
    "### GENDER DEMOGRAPHICS"
   ]
  },
  {
   "cell_type": "code",
   "execution_count": null,
   "id": "angry-causing",
   "metadata": {},
   "outputs": [],
   "source": [
    "gender_group = df.groupby(by=['Gender']) #Group By Gender\n",
    "gender_df = pd.DataFrame() #I'm going to make a DataFrame to house my statistics\n",
    "gender_df[\"Players\"] = gender_group['SN'].nunique()\n",
    "gender_df[\"Percentage\"] = gender_group['SN'].nunique() / num_players\n",
    "gender_df.style.format({'Percentage': '{:,.2%}'.format}) #format and show"
   ]
  },
  {
   "cell_type": "markdown",
   "id": "infectious-river",
   "metadata": {},
   "source": [
    "### PURCHASING ANALYSIS (GENDER)"
   ]
  },
  {
   "cell_type": "code",
   "execution_count": null,
   "id": "permanent-baseball",
   "metadata": {},
   "outputs": [],
   "source": [
    "gender_purchases_df = pd.DataFrame() #I'm going to make a DataFrame to house my statistics\n",
    "gender_purchases_df[\"Purchases\"] = gender_group['SN'].count() #count each row in each group\n",
    "gender_purchases_df[\"Average Price\"] = gender_group['Price'].mean() #Average\n",
    "gender_purchases_df[\"Total Value\"] = gender_group['Price'].sum() #Subtotal\n",
    "gender_purchases_df[\"Value / Player\"] = gender_purchases_df[\"Total Value\"] / gender_df[\"Players\"] #LTV = group rev / group size\n",
    "gender_purchases_df.style.format({\n",
    "    'Average Price': '${:,.2f}'.format,\n",
    "    'Total Value': '${:,.2f}'.format,\n",
    "    'Value / Player': '${:,.2f}'.format,\n",
    "})"
   ]
  },
  {
   "cell_type": "markdown",
   "id": "pressed-chess",
   "metadata": {},
   "source": [
    "### AGE DEMOGRAPHICS"
   ]
  },
  {
   "cell_type": "code",
   "execution_count": null,
   "id": "consistent-interview",
   "metadata": {},
   "outputs": [],
   "source": [
    "#First Prepare the Bins and Group\n",
    "age_bin_max = round((max(df['Age'])-10) / 4)+1#MATH = How many bins will need? \n",
    "age_bins = [0,10] + [10+i*4 for i in range(1,age_bin_max)] #Make my bins\n",
    "df['Age Group'] = pd.cut(df['Age'], age_bins, right=False) #Add 'Age Group' Column\n",
    "age_groups = df.groupby(['Age Group']) #Groupby 'Age Group'\n",
    "\n",
    "#Analyze\n",
    "age_df = pd.DataFrame()#I'm going to make a DataFrame to house my statistics\n",
    "age_df[\"Players\"] = age_groups['SN'].nunique() #How many people in each group?\n",
    "age_df[\"Purchases\"] = age_groups['SN'].count() #How many purchases\n",
    "age_df[\"Average Price\"] = age_groups['Price'].mean() #Average purchase price\n",
    "age_df[\"Total Value\"] = age_groups['Price'].sum() #Sum of Prices\n",
    "age_df[\"Value / Player\"] = age_df[\"Total Value\"] / age_df[\"Players\"] #LTV = group rev / group size\n",
    "age_df.style.format({\n",
    "    'Average Price': '${:,.2f}'.format,\n",
    "    'Total Value': '${:,.2f}'.format,\n",
    "    'Value / Player': '${:,.2f}'.format,\n",
    "})"
   ]
  },
  {
   "cell_type": "markdown",
   "id": "southern-activity",
   "metadata": {},
   "source": [
    "### TOP SPENDERS"
   ]
  },
  {
   "cell_type": "code",
   "execution_count": null,
   "id": "twelve-decline",
   "metadata": {},
   "outputs": [],
   "source": [
    "player_group = df.groupby('SN')#Want unique players\n",
    "top_spenders = pd.DataFrame()#I'm going to make a DataFrame to house my statistics\n",
    "top_spenders['Total Purchases'] = player_group['Price'].sum()\n",
    "top_spenders['Purchase Count'] = player_group['Price'].count()\n",
    "top_spenders['Average Purchase Price'] = top_spenders['Total Purchases'] / top_spenders['Purchase Count']\n",
    "top_spenders = top_spenders.sort_values('Total Purchases', ascending=False) # Sort by 'Total Purchases'\n",
    "top_5_spenders = top_spenders.iloc[0:5,:] # Just get the top 5\n",
    "top_5_spenders.style.format({\n",
    "    'Total Purchases': '${:,.2f}'.format,\n",
    "    'Average Purchase Price': '${:,.2f}'.format,\n",
    "})"
   ]
  },
  {
   "cell_type": "markdown",
   "id": "sustainable-lambda",
   "metadata": {},
   "source": [
    "### MOST POPULAR ITEMS"
   ]
  },
  {
   "cell_type": "code",
   "execution_count": null,
   "id": "enabling-worse",
   "metadata": {},
   "outputs": [],
   "source": [
    "item_group = df.groupby(['Item Name','Item ID']) #Want Unique Items\n",
    "pop_items = pd.DataFrame()#I'm going to make a DataFrame to house my statistics\n",
    "pop_items['Purchase Count'] = item_group['Price'].count()\n",
    "pop_items['Total Purchase Value'] = item_group['Price'].sum()\n",
    "pop_items['Average Price'] = item_group['Price'].mean() #some items have multiple prices\n",
    "pop_items = pop_items.sort_values('Purchase Count', ascending=False) #Sort by 'Purchase Count'\n",
    "most_popular_items = pop_items.iloc[0:5,:] #Just get top 5\n",
    "most_popular_items.style.format({\n",
    "    'Total Purchase Value': '${:,.2f}'.format,\n",
    "    'Average Price': '${:,.2f}'.format,\n",
    "})"
   ]
  },
  {
   "cell_type": "markdown",
   "id": "incredible-travel",
   "metadata": {},
   "source": [
    "### MOST PROFITABLE ITEMS"
   ]
  },
  {
   "cell_type": "code",
   "execution_count": null,
   "id": "prescribed-theory",
   "metadata": {},
   "outputs": [],
   "source": [
    "prof_items = pop_items.sort_values('Total Purchase Value', ascending=False) # It's the same data as pop items\n",
    "most_profitable_items = prof_items.iloc[0:5,:] #Just get top 5\n",
    "most_profitable_items.style.format({\n",
    "    'Total Purchase Value': '${:,.2f}'.format,\n",
    "    'Average Price': '${:,.2f}'.format,\n",
    "})"
   ]
  }
 ],
 "metadata": {
  "kernelspec": {
   "display_name": "Python [conda env:PythonData] *",
   "language": "python",
   "name": "conda-env-PythonData-py"
  },
  "language_info": {
   "codemirror_mode": {
    "name": "ipython",
    "version": 3
   },
   "file_extension": ".py",
   "mimetype": "text/x-python",
   "name": "python",
   "nbconvert_exporter": "python",
   "pygments_lexer": "ipython3",
   "version": "3.6.10"
  }
 },
 "nbformat": 4,
 "nbformat_minor": 5
}
