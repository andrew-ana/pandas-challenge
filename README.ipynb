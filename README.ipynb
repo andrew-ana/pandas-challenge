{
 "cells": [
  {
   "cell_type": "markdown",
   "id": "functioning-leader",
   "metadata": {},
   "source": [
    "# Analyzing Heroes of Pymoli\n",
    "#### Andrew Anastasiades | @andrew-ana\n",
    "---\n",
    "## Key Findings\n",
    "\n",
    "### The vast majority (84%) of players are male\n",
    "\n",
    "    Unsurprisingly, male players make up the bulk of the players in this dataset. However, females spend about 10% more than males do. This suggests that a potential marketing campaign dedicated toward female players could yield substantial returns\n",
    "\n",
    "\n",
    "### Over half (59%) of players are between 18 and 26\n",
    "\n",
    "    Again, the demographic distribution follows conventional wisdom. Young adults are active gamers with more free time and more willingness to spend money on games.\n",
    "\n",
    "\n",
    "### The everage number of purchases per player is 1.35\n",
    "\n",
    "    Even the most prolific spenders have only purchased a handful of items. Under current conditions, acquiring first-time spenders may not be worth the lifetime value that they generate. Also, for a player to be listed in this dataset, they have to have at least one purchase.\n",
    "    \n",
    "\n",
    "## Limitations\n",
    "\n",
    "Let's not forget what this dataset actually represents. This is not the set of all players, **only the purchases**. So we don't know:\n",
    "* What fraction of players ever purchase\n",
    "* What are Gender/Age demographics of *all* players -- do they match the purchasing dataset\n",
    "* How long it takes to get someone to buy\n",
    "* How and when these items were introduced\n"
   ]
  }
 ],
 "metadata": {
  "kernelspec": {
   "display_name": "Python [conda env:PythonData] *",
   "language": "python",
   "name": "conda-env-PythonData-py"
  },
  "language_info": {
   "codemirror_mode": {
    "name": "ipython",
    "version": 3
   },
   "file_extension": ".py",
   "mimetype": "text/x-python",
   "name": "python",
   "nbconvert_exporter": "python",
   "pygments_lexer": "ipython3",
   "version": "3.6.10"
  }
 },
 "nbformat": 4,
 "nbformat_minor": 5
}
